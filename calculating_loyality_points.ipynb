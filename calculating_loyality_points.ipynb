{
  "nbformat": 4,
  "nbformat_minor": 0,
  "metadata": {
    "colab": {
      "provenance": [],
      "authorship_tag": "ABX9TyM6a4hLUg3jy9wKd4N700YA",
      "include_colab_link": true
    },
    "kernelspec": {
      "name": "python3",
      "display_name": "Python 3"
    },
    "language_info": {
      "name": "python"
    }
  },
  "cells": [
    {
      "cell_type": "markdown",
      "metadata": {
        "id": "view-in-github",
        "colab_type": "text"
      },
      "source": [
        "<a href=\"https://colab.research.google.com/github/shravanivadthya/E-commerce/blob/main/calculating_loyality_points.ipynb\" target=\"_parent\"><img src=\"https://colab.research.google.com/assets/colab-badge.svg\" alt=\"Open In Colab\"/></a>"
      ]
    },
    {
      "cell_type": "code",
      "execution_count": null,
      "metadata": {
        "id": "nvKwsB8yPgx9"
      },
      "outputs": [],
      "source": []
    },
    {
      "cell_type": "code",
      "source": [
        "import pandas as pd\n",
        "from datetime import datetime, timedelta"
      ],
      "metadata": {
        "id": "wVRoKfLTP3gY"
      },
      "execution_count": null,
      "outputs": []
    },
    {
      "cell_type": "code",
      "source": [
        "\n",
        "\n",
        "gameplay = pd.read_excel(\"Analytics Position Case Study.xlsx\", sheet_name=\"User Gameplay data\")\n",
        "deposit = pd.read_excel(\"Analytics Position Case Study.xlsx\", sheet_name=\"Deposit Data\")\n",
        "withdrawal = pd.read_excel(\"Analytics Position Case Study.xlsx\", sheet_name=\"Withdrawal Data\")"
      ],
      "metadata": {
        "id": "q9LcNWW7P55m"
      },
      "execution_count": null,
      "outputs": []
    },
    {
      "cell_type": "code",
      "source": [
        "gameplay['Game_Play_Time'] = pd.to_datetime(gameplay['Game_Play_Time'])\n",
        "deposit['Deposit_Time'] = pd.to_datetime(deposit['Deposit_Time'])\n",
        "withdrawal['Withdrawal_Time'] = pd.to_datetime(withdrawal['Withdrawal_Time'])\n"
      ],
      "metadata": {
        "id": "fdMJYGX7QM6b"
      },
      "execution_count": null,
      "outputs": []
    },
    {
      "cell_type": "code",
      "source": [
        "def calculate_loyalty_points(deposit_amt, withdrawal_amt, num_deposits, num_withdrawals, games_played):\n",
        "    return (\n",
        "        0.01 * deposit_amt +\n",
        "        0.005 * withdrawal_amt +\n",
        "        0.001 * max(num_deposits - num_withdrawals, 0) +\n",
        "        0.2 * games_played\n",
        "    )"
      ],
      "metadata": {
        "id": "s-CM4I3cQZZZ"
      },
      "execution_count": null,
      "outputs": []
    },
    {
      "cell_type": "code",
      "source": [
        "def get_slot_bounds(date, slot):\n",
        "    if slot == \"S1\":\n",
        "        start = datetime.combine(date, datetime.min.time())\n",
        "        end = start + timedelta(hours=12)\n",
        "    elif slot == \"S2\":\n",
        "        start = datetime.combine(date, datetime.min.time()) + timedelta(hours=12)\n",
        "        end = start + timedelta(hours=12)\n",
        "    return start, end"
      ],
      "metadata": {
        "id": "QunKfNUyQeri"
      },
      "execution_count": null,
      "outputs": []
    },
    {
      "cell_type": "code",
      "source": [
        "def compute_loyalty_for_slot(date_str, slot):\n",
        "    date = datetime.strptime(date_str, \"%d %B %Y\")\n",
        "    start, end = get_slot_bounds(date, slot)"
      ],
      "metadata": {
        "id": "WGlUhfEmQkAJ"
      },
      "execution_count": null,
      "outputs": []
    },
    {
      "cell_type": "code",
      "source": [
        "games = gameplay[(gameplay['Game_Play_Time'] >= start) & (gameplay['Game_Play_Time'] < end)]\n",
        "    deposits = deposit[(deposit['Deposit_Time'] >= start) & (deposit['Deposit_Time'] < end)]\n",
        "    withdrawals = withdrawal[(withdrawal['Withdrawal_Time'] >= start) & (withdrawal['Withdrawal_Time'] < end)]\n"
      ],
      "metadata": {
        "id": "fWlZiQjgQoYB"
      },
      "execution_count": null,
      "outputs": []
    },
    {
      "cell_type": "code",
      "source": [
        "games_grouped = games.groupby('Player_ID').size().reset_index(name='Games_Played')\n",
        "    deposits_grouped = deposits.groupby('Player_ID').agg({'Amount': 'sum', 'Deposit_Time': 'count'}).rename(columns={'Amount': 'Deposit_Amount', 'Deposit_Time': 'Num_Deposits'})\n",
        "    withdrawals_grouped = withdrawals.groupby('Player_ID').agg({'Amount': 'sum', 'Withdrawal_Time': 'count'}).rename(columns={'Amount': 'Withdrawal_Amount', 'Withdrawal_Time': 'Num_Withdrawals'})\n"
      ],
      "metadata": {
        "id": "eERMj0rwQ1IC"
      },
      "execution_count": null,
      "outputs": []
    },
    {
      "cell_type": "code",
      "source": [
        "    merged = pd.merge(games_grouped, deposits_grouped, on='Player_ID', how='outer')\n",
        "    merged = pd.merge(merged, withdrawals_grouped, on='Player_ID', how='outer')\n",
        "    merged.fillna(0, inplace=True)"
      ],
      "metadata": {
        "id": "AvgbK_KyQ6g6"
      },
      "execution_count": null,
      "outputs": []
    },
    {
      "cell_type": "code",
      "source": [
        "merged['Loyalty_Points'] = merged.apply(lambda row: calculate_loyalty_points(\n",
        "        row['Deposit_Amount'], row['Withdrawal_Amount'],\n",
        "        row['Num_Deposits'], row['Num_Withdrawals'],\n",
        "        row['Games_Played']), axis=1)\n",
        "\n",
        "    return merged[['Player_ID', 'Loyalty_Points']].sort_values(by='Loyalty_Points', ascending=False)\n"
      ],
      "metadata": {
        "id": "3p5tJSVbRBlW"
      },
      "execution_count": null,
      "outputs": []
    },
    {
      "cell_type": "code",
      "source": [
        "slots_to_check = [\n",
        "    (\"2 October 2021\", \"S1\"),\n",
        "    (\"16 October 2021\", \"S2\"),\n",
        "    (\"18 October 2021\", \"S1\"),\n",
        "    (\"26 October 2021\", \"S2\"),\n",
        "]\n",
        "results = {}\n",
        "for date_str, slot in slots_to_check:\n",
        "    results[f\"{date_str} {slot}\"] = compute_loyalty_for_slot(date_str, slot)\n"
      ],
      "metadata": {
        "id": "tBN-zUUURFQY"
      },
      "execution_count": null,
      "outputs": []
    },
    {
      "cell_type": "code",
      "source": [
        "for key, df in results.items():\n",
        "    print(f\"\\nLoyalty Points for {key}\")\n",
        "    print(df.head())\n"
      ],
      "metadata": {
        "id": "g63oLQPaRM5P"
      },
      "execution_count": null,
      "outputs": []
    },
    {
      "cell_type": "code",
      "source": [
        "oct_start = datetime(2021, 10, 1)\n",
        "oct_end = datetime(2021, 11, 1)\n"
      ],
      "metadata": {
        "id": "qkbiCM-HRRJQ"
      },
      "execution_count": null,
      "outputs": []
    },
    {
      "cell_type": "code",
      "source": [
        "games_oct = gameplay[(gameplay['Game_Play_Time'] >= oct_start) & (gameplay['Game_Play_Time'] < oct_end)]\n",
        "deposits_oct = deposit[(deposit['Deposit_Time'] >= oct_start) & (deposit['Deposit_Time'] < oct_end)]\n",
        "withdrawals_oct = withdrawal[(withdrawal['Withdrawal_Time'] >= oct_start) & (withdrawal['Withdrawal_Time'] < oct_end)]\n"
      ],
      "metadata": {
        "id": "Hz1Bj4AeRWZm"
      },
      "execution_count": null,
      "outputs": []
    },
    {
      "cell_type": "code",
      "source": [
        "games_grouped = games_oct.groupby('Player_ID').size().reset_index(name='Games_Played')\n",
        "deposits_grouped = deposits_oct.groupby('Player_ID').agg({'Amount': 'sum', 'Deposit_Time': 'count'}).rename(columns={'Amount': 'Deposit_Amount', 'Deposit_Time': 'Num_Deposits'})\n",
        "withdrawals_grouped = withdrawals_oct.groupby('Player_ID').agg({'Amount': 'sum', 'Withdrawal_Time': 'count'}).rename(columns={'Amount': 'Withdrawal_Amount', 'Withdrawal_Time': 'Num_Withdrawals'})\n"
      ],
      "metadata": {
        "id": "cWP8_pZ4RZ5X"
      },
      "execution_count": null,
      "outputs": []
    },
    {
      "cell_type": "code",
      "source": [
        "merged = pd.merge(games_grouped, deposits_grouped, on='Player_ID', how='outer')\n",
        "merged = pd.merge(merged, withdrawals_grouped, on='Player_ID', how='outer')\n",
        "merged.fillna(0, inplace=True)"
      ],
      "metadata": {
        "id": "P5ajaqXfRevt"
      },
      "execution_count": null,
      "outputs": []
    },
    {
      "cell_type": "code",
      "source": [
        "merged['Loyalty_Points'] = merged.apply(lambda row: calculate_loyalty_points(\n",
        "    row['Deposit_Amount'], row['Withdrawal_Amount'],\n",
        "    row['Num_Deposits'], row['Num_Withdrawals'],\n",
        "    row['Games_Played']), axis=1)"
      ],
      "metadata": {
        "id": "yvR1AYt3Rp-e"
      },
      "execution_count": null,
      "outputs": []
    },
    {
      "cell_type": "code",
      "source": [
        "merged.sort_values(by=['Loyalty_Points', 'Games_Played'], ascending=False, inplace=True)\n",
        "merged.reset_index(drop=True, inplace=True)"
      ],
      "metadata": {
        "id": "eD7dL85PRsFe"
      },
      "execution_count": null,
      "outputs": []
    },
    {
      "cell_type": "code",
      "source": [
        "print(\"\\nTop 50 Players for October:\")\n",
        "print(merged[['Player_ID', 'Loyalty_Points']].head(50))"
      ],
      "metadata": {
        "id": "W5Ej4uvQRwuu"
      },
      "execution_count": null,
      "outputs": []
    },
    {
      "cell_type": "code",
      "source": [
        "average_deposit_amount = deposits_oct['Amount'].mean()\n",
        "average_deposit_per_user = deposits_oct.groupby('Player_ID')['Amount'].sum().mean()\n",
        "average_games_per_user = games_oct.groupby('Player_ID').size().mean()"
      ],
      "metadata": {
        "id": "DxhYCdi3R1Rh"
      },
      "execution_count": null,
      "outputs": []
    },
    {
      "cell_type": "code",
      "source": [
        "print(f\"\\nAverage deposit amount: ₹{average_deposit_amount:.2f}\")\n",
        "print(f\"Average total deposit per user in October: ₹{average_deposit_per_user:.2f}\")\n",
        "print(f\"Average number of games per user in October: {average_games_per_user:.2f}\")"
      ],
      "metadata": {
        "id": "oGVNSl_8R4jS"
      },
      "execution_count": null,
      "outputs": []
    }
  ]
}